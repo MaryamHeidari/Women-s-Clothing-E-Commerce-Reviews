{
 "cells": [
  {
   "cell_type": "markdown",
   "metadata": {},
   "source": [
    "# Capstone project\n",
    "\n",
    "**Women's Clothing E-Commerce Reviews**\n",
    "\n",
    "Maryam Heidari\n",
    "Winter 2019"
   ]
  },
  {
   "cell_type": "markdown",
   "metadata": {},
   "source": [
    "## Introduction:\n",
    "\n",
    "Nowadays, every companies use e-commerce to develop their business, especially by using online selling, websites and social media.\n",
    "Understanding customers’ needs is the first priority for any company and business. This way they can find what is their target group and goals, how they can improve their products or services and build their strategy plans around these information. \n",
    "One of the ways for studying costumer behavior in e-commerce is using the reviews and rating they gave to the each product that they purchased online. \n",
    "In this assignment, I am going to analyze the customer reviews on women clothing e-commerce. \n",
    "And I attempt to find the products’ ID which have no recommendation (Recommended IND=0) , and report them so the companies improve these product or stop producing them and come up with new products.\n",
    "And also I try to find a relationship between Rating and Age and Age and Recommendation, and come up with a formula to predict Rating based on Age . Because I believe it is harder to satisfied older women than younger one."
   ]
  },
  {
   "cell_type": "markdown",
   "metadata": {},
   "source": [
    "## Questions:\n",
    "1. The Distribution of age of people\n",
    "2. The distribution of rating\n",
    "3. Proportion of recommended to not recommended\n",
    "4. Crosstab plot for Age and Rating, Is the age of people have impact on their rating?\n",
    "5. the average rating for each Clothing ID\n",
    "6. Finding Clothing ID with low rating mean and report their ID to strategy group so they can make decision about it."
   ]
  },
  {
   "cell_type": "markdown",
   "metadata": {},
   "source": [
    "## The Dataset:\n",
    "The Women’s Clothing E-Commerce Reviews was used as the dataset for this study.(1) This dataset consists of reviews and rating by real customers, hence it has been anonymized. customer names were not included, and references to the company were replaced with “retailer” by the Kaggle website.(3) I download my CSV file which contain my data from The Kaggle website too."
   ]
  },
  {
   "cell_type": "markdown",
   "metadata": {},
   "source": [
    "**Loading Data set**"
   ]
  },
  {
   "cell_type": "code",
   "execution_count": null,
   "metadata": {},
   "outputs": [],
   "source": [
    "import pandas as pd\n",
    "import matplotlib.pyplot as plt\n",
    "import numpy as np"
   ]
  },
  {
   "cell_type": "code",
   "execution_count": null,
   "metadata": {},
   "outputs": [],
   "source": [
    "#import dataset from jupyter notebook.\n",
    "data= pd.read_csv('Database.csv')"
   ]
  },
  {
   "cell_type": "code",
   "execution_count": null,
   "metadata": {},
   "outputs": [],
   "source": [
    "#import dataset from http\n",
    "from urllib.request import urlopen,Request\n",
    "url=\"https://www.kaggle.com/nicapotato/womens-ecommerce-clothing-reviews/downloads/womens-ecommerce-clothing-reviews.zip/1\"\n",
    "request=Request(url)\n",
    "response=urlopen(request)\n",
    "html=response.read()\n",
    "print(html)"
   ]
  },
  {
   "cell_type": "markdown",
   "metadata": {},
   "source": [
    "**Describe Data Set**"
   ]
  },
  {
   "cell_type": "code",
   "execution_count": null,
   "metadata": {},
   "outputs": [],
   "source": [
    "print(data.head())\n",
    "print(data.tail())"
   ]
  },
  {
   "cell_type": "code",
   "execution_count": null,
   "metadata": {},
   "outputs": [],
   "source": [
    "print(data.columns)"
   ]
  },
  {
   "cell_type": "code",
   "execution_count": null,
   "metadata": {},
   "outputs": [],
   "source": [
    "print(data.shape)"
   ]
  },
  {
   "cell_type": "code",
   "execution_count": null,
   "metadata": {
    "scrolled": false
   },
   "outputs": [],
   "source": [
    "print(data.info())"
   ]
  },
  {
   "cell_type": "code",
   "execution_count": null,
   "metadata": {},
   "outputs": [],
   "source": [
    "print(data.describe())"
   ]
  },
  {
   "cell_type": "markdown",
   "metadata": {},
   "source": [
    "**finding missing data**"
   ]
  },
  {
   "cell_type": "code",
   "execution_count": null,
   "metadata": {},
   "outputs": [],
   "source": [
    "#total number of NaN \n",
    "print(data.isnull().sum())"
   ]
  },
  {
   "cell_type": "code",
   "execution_count": null,
   "metadata": {},
   "outputs": [],
   "source": [
    "# deleting null or missing data values\n",
    "data.dropna()"
   ]
  },
  {
   "cell_type": "code",
   "execution_count": null,
   "metadata": {},
   "outputs": [],
   "source": [
    "df= data.rename(index=str,columns={\"Recommended IND\":\"Recom\", \"Clothing ID\":\"ID\", \"Review Text\":\"Review\"})"
   ]
  },
  {
   "cell_type": "markdown",
   "metadata": {},
   "source": [
    "Based on my questions I just need columns : ID,Age,Review,Rating,Recommended. So I am going to seperate them from dataframe by .loc"
   ]
  },
  {
   "cell_type": "code",
   "execution_count": null,
   "metadata": {},
   "outputs": [],
   "source": [
    "Df= df.loc[:,[\"ID\",\"Review\",\"Recom\",\"Age\",\"Rating\"]]\n",
    "print (Df.head())"
   ]
  },
  {
   "cell_type": "markdown",
   "metadata": {},
   "source": [
    "### Now we see and understand our data set completely, so it is time to answer our questions"
   ]
  },
  {
   "cell_type": "markdown",
   "metadata": {},
   "source": [
    "**Q1**"
   ]
  },
  {
   "cell_type": "code",
   "execution_count": null,
   "metadata": {},
   "outputs": [],
   "source": [
    "#Q1\n",
    "#Histogram for Age\n",
    "plt.hist(Df['Age'],bins=20)\n",
    "plt.title('Age distribution')\n",
    "plt.xlabel('Age')\n",
    "plt.show()"
   ]
  },
  {
   "cell_type": "markdown",
   "metadata": {},
   "source": [
    "**Result:**\n",
    "As you can see the mode of the age is between 30-40"
   ]
  },
  {
   "cell_type": "markdown",
   "metadata": {},
   "source": [
    "**Q2**"
   ]
  },
  {
   "cell_type": "code",
   "execution_count": null,
   "metadata": {},
   "outputs": [],
   "source": [
    "#Q2\n",
    "#Histogram for Rating\n",
    "plt.hist(Df['Rating'],bins=5)\n",
    "plt.title('Rating distribution')\n",
    "plt.xlabel('Rating')\n",
    "plt.show()"
   ]
  },
  {
   "cell_type": "markdown",
   "metadata": {},
   "source": [
    "**Result:**\n",
    "As you can see most of the rates is five"
   ]
  },
  {
   "cell_type": "markdown",
   "metadata": {},
   "source": [
    "**Q3**"
   ]
  },
  {
   "cell_type": "code",
   "execution_count": null,
   "metadata": {},
   "outputs": [],
   "source": [
    "#Q3\n",
    "#pie chart for recommended\n",
    "z= Df.groupby('Recom').count()\n",
    "print(z)"
   ]
  },
  {
   "cell_type": "code",
   "execution_count": null,
   "metadata": {},
   "outputs": [],
   "source": [
    "label= 'Recommended', 'Not recommended'\n",
    "size= [4172,19314]\n",
    "color=['Red','Blue']\n",
    " \n",
    "# Plot\n",
    "plt.pie(size, labels=label, colors=color,\n",
    "autopct='%1.1f%%', shadow=True, startangle=140)\n",
    " \n",
    "plt.axis('equal')\n",
    "plt.show()"
   ]
  },
  {
   "cell_type": "markdown",
   "metadata": {},
   "source": [
    "In here we can see most of the people do not recommend the clothes that they bought"
   ]
  },
  {
   "cell_type": "markdown",
   "metadata": {},
   "source": [
    "**Conclusion:**\n",
    "Because be mode of rating is 5, we can say people do not pay attention to the recommended question unless they are not satisfied with their purchase"
   ]
  },
  {
   "cell_type": "markdown",
   "metadata": {},
   "source": [
    "**Q4**"
   ]
  },
  {
   "cell_type": "markdown",
   "metadata": {},
   "source": [
    "Before I am drawing the crosstab plot for age and rating, I put the age in 8 categories that width of each is 10."
   ]
  },
  {
   "cell_type": "code",
   "execution_count": null,
   "metadata": {},
   "outputs": [],
   "source": [
    "#Categories Age\n",
    "Q4=Df.loc[:,['Age','Rating']]\n",
    "conditions = [\n",
    "    (Df['Age'] < 20),\n",
    "    (Df['Age'] >=20) & (Df['Age'] <30),\n",
    "    (Df['Age'] >=30) & (Df['Age'] <40),\n",
    "    (Df['Age'] >=40) & (Df['Age'] <50),\n",
    "    (Df['Age'] >=50) & (Df['Age'] <60),\n",
    "    (Df['Age'] >=60) & (Df['Age'] <70),\n",
    "    (Df['Age'] >=70)\n",
    "    ]\n",
    "choices = [20,25,35,45,55,65,70]\n",
    "Q4['AGE_mean'] = np.select(conditions, choices, default='A')\n",
    "print(Q4)"
   ]
  },
  {
   "cell_type": "code",
   "execution_count": null,
   "metadata": {
    "scrolled": true
   },
   "outputs": [],
   "source": [
    "pd.crosstab(Q4.AGE_mean,Q4.Rating).plot(kind=\"bar\",figsize=(5,5))\n",
    "plt.xlabel('Age')\n",
    "plt.ylabel('Frequency of Rating')"
   ]
  },
  {
   "cell_type": "markdown",
   "metadata": {},
   "source": [
    "based on the figure above:\n",
    "In every group of age, most of the people give 5 to their purcheses."
   ]
  },
  {
   "cell_type": "code",
   "execution_count": null,
   "metadata": {},
   "outputs": [],
   "source": [
    "Q4_1=Q4.loc[Q4['Rating'] == 5]\n",
    "Q4_2=Q4_1.groupby(['AGE_mean']).count()\n"
   ]
  },
  {
   "cell_type": "code",
   "execution_count": null,
   "metadata": {},
   "outputs": [],
   "source": [
    "Q4_3= Q4.groupby(['AGE_mean']).count()"
   ]
  },
  {
   "cell_type": "code",
   "execution_count": null,
   "metadata": {},
   "outputs": [],
   "source": [
    "100* Q4_2['Age']/Q4_3['Age']"
   ]
  },
  {
   "cell_type": "markdown",
   "metadata": {},
   "source": [
    "As  result, we can see as customers’ age goes up the percentage of the people how give the 5 to the clothes is goes up. So, it is easier to please the older woman than younger one."
   ]
  },
  {
   "cell_type": "markdown",
   "metadata": {},
   "source": [
    "**Q5**"
   ]
  },
  {
   "cell_type": "code",
   "execution_count": null,
   "metadata": {},
   "outputs": [],
   "source": [
    "#Q5\n",
    "#the average rating for each clothing ID\n",
    "Q5= pd.DataFrame(Df.groupby('ID')['Rating'].mean().rename('mean'))\n",
    "print(Q5)"
   ]
  },
  {
   "cell_type": "markdown",
   "metadata": {},
   "source": [
    "**Q6**"
   ]
  },
  {
   "cell_type": "code",
   "execution_count": null,
   "metadata": {},
   "outputs": [],
   "source": [
    "#Q6\n",
    "Q5[Q5['mean']<2.5].index"
   ]
  },
  {
   "cell_type": "markdown",
   "metadata": {},
   "source": [
    "**conclusion:**\n",
    "The clothes which their ID are mentioned in above need some things or they can eliminate them from their selling items."
   ]
  }
 ],
 "metadata": {
  "kernelspec": {
   "display_name": "Python 3",
   "language": "python",
   "name": "python3"
  },
  "language_info": {
   "codemirror_mode": {
    "name": "ipython",
    "version": 3
   },
   "file_extension": ".py",
   "mimetype": "text/x-python",
   "name": "python",
   "nbconvert_exporter": "python",
   "pygments_lexer": "ipython3",
   "version": "3.7.4"
  }
 },
 "nbformat": 4,
 "nbformat_minor": 2
}
